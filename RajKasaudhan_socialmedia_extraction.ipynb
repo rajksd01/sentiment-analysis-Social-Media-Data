{
 "cells": [
  {
   "cell_type": "code",
   "execution_count": 30,
   "id": "bce0f629-a68f-4790-a1be-ae9232701130",
   "metadata": {},
   "outputs": [],
   "source": [
    "#Name: Raj Kasaudhan\n",
    "#USN: 21BTRCD063"
   ]
  },
  {
   "cell_type": "code",
   "execution_count": 11,
   "id": "25d735a7-f2d1-41b7-a6fb-032d426a8d8a",
   "metadata": {},
   "outputs": [
    {
     "name": "stdout",
     "output_type": "stream",
     "text": [
      "Collecting textblob\n",
      "  Downloading textblob-0.18.0.post0-py3-none-any.whl.metadata (4.5 kB)\n",
      "Requirement already satisfied: nltk>=3.8 in /home/raj/anaconda3/lib/python3.11/site-packages (from textblob) (3.8.1)\n",
      "Requirement already satisfied: click in /home/raj/anaconda3/lib/python3.11/site-packages (from nltk>=3.8->textblob) (8.1.7)\n",
      "Requirement already satisfied: joblib in /home/raj/anaconda3/lib/python3.11/site-packages (from nltk>=3.8->textblob) (1.2.0)\n",
      "Requirement already satisfied: regex>=2021.8.3 in /home/raj/anaconda3/lib/python3.11/site-packages (from nltk>=3.8->textblob) (2023.10.3)\n",
      "Requirement already satisfied: tqdm in /home/raj/anaconda3/lib/python3.11/site-packages (from nltk>=3.8->textblob) (4.65.0)\n",
      "Downloading textblob-0.18.0.post0-py3-none-any.whl (626 kB)\n",
      "\u001b[2K   \u001b[38;2;114;156;31m━━━━━━━━━━━━━━━━━━━━━━━━━━━━━━━━━━━━━━━\u001b[0m \u001b[32m626.3/626.3 kB\u001b[0m \u001b[31m599.8 kB/s\u001b[0m eta \u001b[36m0:00:00\u001b[0mm eta \u001b[36m0:00:01\u001b[0m0:01\u001b[0m:01\u001b[0m\n",
      "\u001b[?25hInstalling collected packages: textblob\n",
      "Successfully installed textblob-0.18.0.post0\n",
      "Note: you may need to restart the kernel to use updated packages.\n"
     ]
    }
   ],
   "source": [
    "pip install textblob\n"
   ]
  },
  {
   "cell_type": "code",
   "execution_count": 1,
   "id": "683dbc90-53eb-435e-bb83-324ee9075cf6",
   "metadata": {},
   "outputs": [],
   "source": [
    "import pandas as pd"
   ]
  },
  {
   "cell_type": "code",
   "execution_count": 2,
   "id": "d9ee65d3-d9d3-4ff4-a095-e32ba6993a35",
   "metadata": {},
   "outputs": [],
   "source": [
    "df = pd.read_csv(\"Donald Trump's Facebook Statuses + Reaction Counts (as of 10_17_16, @minimaxir) - DonaldTrump_facebook_statuses.csv.csv\")"
   ]
  },
  {
   "cell_type": "code",
   "execution_count": 26,
   "id": "27064c47-d918-444b-9889-9a4f47018ca4",
   "metadata": {},
   "outputs": [
    {
     "data": {
      "text/plain": [
       "\"The State Department's quid pro quo scheme proves how CORRUPT our system is. Attempting to protect Crooked Hillary, NOT our American service members or national security information, is absolutely DISGRACEFUL. The American people deserve so much better. On November 8th, we will END this RIGGED system once and for all!\""
      ]
     },
     "execution_count": 26,
     "metadata": {},
     "output_type": "execute_result"
    }
   ],
   "source": [
    "df['status_message'][1]"
   ]
  },
  {
   "cell_type": "code",
   "execution_count": 8,
   "id": "03dc6029-0874-481c-9e9d-9114962117c8",
   "metadata": {},
   "outputs": [
    {
     "data": {
      "text/html": [
       "<div>\n",
       "<style scoped>\n",
       "    .dataframe tbody tr th:only-of-type {\n",
       "        vertical-align: middle;\n",
       "    }\n",
       "\n",
       "    .dataframe tbody tr th {\n",
       "        vertical-align: top;\n",
       "    }\n",
       "\n",
       "    .dataframe thead th {\n",
       "        text-align: right;\n",
       "    }\n",
       "</style>\n",
       "<table border=\"1\" class=\"dataframe\">\n",
       "  <thead>\n",
       "    <tr style=\"text-align: right;\">\n",
       "      <th></th>\n",
       "      <th>status_id</th>\n",
       "      <th>status_message</th>\n",
       "      <th>link_name</th>\n",
       "      <th>status_type</th>\n",
       "      <th>status_link</th>\n",
       "      <th>status_published</th>\n",
       "      <th>num_reactions</th>\n",
       "      <th>num_comments</th>\n",
       "      <th>num_shares</th>\n",
       "      <th>num_likes</th>\n",
       "      <th>num_loves</th>\n",
       "      <th>num_wows</th>\n",
       "      <th>num_hahas</th>\n",
       "      <th>num_sads</th>\n",
       "      <th>num_angrys</th>\n",
       "    </tr>\n",
       "  </thead>\n",
       "  <tbody>\n",
       "    <tr>\n",
       "      <th>0</th>\n",
       "      <td>153080620724_10157915294545725</td>\n",
       "      <td>Beautiful evening in Wisconsin- THANK YOU for ...</td>\n",
       "      <td>Timeline Photos</td>\n",
       "      <td>photo</td>\n",
       "      <td>https://www.facebook.com/DonaldTrump/photos/a....</td>\n",
       "      <td>10/17/2016 20:56:51</td>\n",
       "      <td>6813</td>\n",
       "      <td>543</td>\n",
       "      <td>359</td>\n",
       "      <td>6178</td>\n",
       "      <td>572</td>\n",
       "      <td>39</td>\n",
       "      <td>17</td>\n",
       "      <td>0</td>\n",
       "      <td>7</td>\n",
       "    </tr>\n",
       "    <tr>\n",
       "      <th>1</th>\n",
       "      <td>153080620724_10157914483265725</td>\n",
       "      <td>The State Department's quid pro quo scheme pro...</td>\n",
       "      <td>NaN</td>\n",
       "      <td>video</td>\n",
       "      <td>https://www.facebook.com/DonaldTrump/videos/10...</td>\n",
       "      <td>10/17/2016 18:00:41</td>\n",
       "      <td>33768</td>\n",
       "      <td>3644</td>\n",
       "      <td>17653</td>\n",
       "      <td>26649</td>\n",
       "      <td>487</td>\n",
       "      <td>1155</td>\n",
       "      <td>75</td>\n",
       "      <td>191</td>\n",
       "      <td>5211</td>\n",
       "    </tr>\n",
       "    <tr>\n",
       "      <th>2</th>\n",
       "      <td>153080620724_10157913199155725</td>\n",
       "      <td>Crooked Hillary's State Department colluded wi...</td>\n",
       "      <td>NaN</td>\n",
       "      <td>video</td>\n",
       "      <td>https://www.facebook.com/DonaldTrump/videos/10...</td>\n",
       "      <td>10/17/2016 15:34:46</td>\n",
       "      <td>85627</td>\n",
       "      <td>8810</td>\n",
       "      <td>32594</td>\n",
       "      <td>73519</td>\n",
       "      <td>2943</td>\n",
       "      <td>1020</td>\n",
       "      <td>330</td>\n",
       "      <td>263</td>\n",
       "      <td>7552</td>\n",
       "    </tr>\n",
       "    <tr>\n",
       "      <th>3</th>\n",
       "      <td>153080620724_10157912962325725</td>\n",
       "      <td>JournoCash: Media gives $382,000 to Clinton, $...</td>\n",
       "      <td>JournoCash: Media gives $382,000 to Clinton, $...</td>\n",
       "      <td>link</td>\n",
       "      <td>http://www.washingtonexaminer.com/journocash-m...</td>\n",
       "      <td>10/17/2016 14:17:24</td>\n",
       "      <td>22696</td>\n",
       "      <td>3665</td>\n",
       "      <td>5082</td>\n",
       "      <td>14029</td>\n",
       "      <td>122</td>\n",
       "      <td>2091</td>\n",
       "      <td>241</td>\n",
       "      <td>286</td>\n",
       "      <td>5927</td>\n",
       "    </tr>\n",
       "    <tr>\n",
       "      <th>4</th>\n",
       "      <td>153080620724_10157912187170725</td>\n",
       "      <td>Exclusive: \"O'Keefe Video Sting Exposes 'Bird-...</td>\n",
       "      <td>O'Keefe Reveals 'Bird-Dogging' to Incite Viole...</td>\n",
       "      <td>link</td>\n",
       "      <td>http://www.breitbart.com/big-government/2016/1...</td>\n",
       "      <td>10/17/2016 12:03:19</td>\n",
       "      <td>40729</td>\n",
       "      <td>4905</td>\n",
       "      <td>17087</td>\n",
       "      <td>26472</td>\n",
       "      <td>178</td>\n",
       "      <td>2588</td>\n",
       "      <td>154</td>\n",
       "      <td>417</td>\n",
       "      <td>10922</td>\n",
       "    </tr>\n",
       "  </tbody>\n",
       "</table>\n",
       "</div>"
      ],
      "text/plain": [
       "                        status_id  \\\n",
       "0  153080620724_10157915294545725   \n",
       "1  153080620724_10157914483265725   \n",
       "2  153080620724_10157913199155725   \n",
       "3  153080620724_10157912962325725   \n",
       "4  153080620724_10157912187170725   \n",
       "\n",
       "                                      status_message  \\\n",
       "0  Beautiful evening in Wisconsin- THANK YOU for ...   \n",
       "1  The State Department's quid pro quo scheme pro...   \n",
       "2  Crooked Hillary's State Department colluded wi...   \n",
       "3  JournoCash: Media gives $382,000 to Clinton, $...   \n",
       "4  Exclusive: \"O'Keefe Video Sting Exposes 'Bird-...   \n",
       "\n",
       "                                           link_name status_type  \\\n",
       "0                                    Timeline Photos       photo   \n",
       "1                                                NaN       video   \n",
       "2                                                NaN       video   \n",
       "3  JournoCash: Media gives $382,000 to Clinton, $...        link   \n",
       "4  O'Keefe Reveals 'Bird-Dogging' to Incite Viole...        link   \n",
       "\n",
       "                                         status_link     status_published  \\\n",
       "0  https://www.facebook.com/DonaldTrump/photos/a....  10/17/2016 20:56:51   \n",
       "1  https://www.facebook.com/DonaldTrump/videos/10...  10/17/2016 18:00:41   \n",
       "2  https://www.facebook.com/DonaldTrump/videos/10...  10/17/2016 15:34:46   \n",
       "3  http://www.washingtonexaminer.com/journocash-m...  10/17/2016 14:17:24   \n",
       "4  http://www.breitbart.com/big-government/2016/1...  10/17/2016 12:03:19   \n",
       "\n",
       "   num_reactions  num_comments  num_shares  num_likes  num_loves  num_wows  \\\n",
       "0           6813           543         359       6178        572        39   \n",
       "1          33768          3644       17653      26649        487      1155   \n",
       "2          85627          8810       32594      73519       2943      1020   \n",
       "3          22696          3665        5082      14029        122      2091   \n",
       "4          40729          4905       17087      26472        178      2588   \n",
       "\n",
       "   num_hahas  num_sads  num_angrys  \n",
       "0         17         0           7  \n",
       "1         75       191        5211  \n",
       "2        330       263        7552  \n",
       "3        241       286        5927  \n",
       "4        154       417       10922  "
      ]
     },
     "execution_count": 8,
     "metadata": {},
     "output_type": "execute_result"
    }
   ],
   "source": [
    "df.head()"
   ]
  },
  {
   "cell_type": "code",
   "execution_count": 29,
   "id": "32d1bddc-bd5f-4c05-84bd-d269af43d7d0",
   "metadata": {},
   "outputs": [
    {
     "name": "stdout",
     "output_type": "stream",
     "text": [
      "object\n"
     ]
    }
   ],
   "source": [
    "# to check the type of data for status_message\n",
    "\n",
    "print(df['status_message'].dtype)"
   ]
  },
  {
   "cell_type": "code",
   "execution_count": 12,
   "id": "054eebbe-fb3e-4fa6-b0fe-ec325a204763",
   "metadata": {},
   "outputs": [
    {
     "name": "stdout",
     "output_type": "stream",
     "text": [
      "Overall sentiment: Positive\n"
     ]
    }
   ],
   "source": [
    "# for a single line \n",
    "from textblob import TextBlob\n",
    "\n",
    "# Text to analyze\n",
    "text = df['status_message'][1]\n",
    "# Create a TextBlob object\n",
    "blob = TextBlob(text)\n",
    "\n",
    "# Analyze sentiment\n",
    "sentiment = blob.sentiment.polarity\n",
    "\n",
    "# Determine sentiment label\n",
    "if sentiment > 0:\n",
    "    sentiment_label = \"Positive\"\n",
    "elif sentiment < 0:\n",
    "    sentiment_label = \"Negative\"\n",
    "else:\n",
    "    sentiment_label = \"Neutral\"\n",
    "\n",
    "print(\"Overall sentiment:\", sentiment_label)\n"
   ]
  },
  {
   "cell_type": "code",
   "execution_count": null,
   "id": "11305ce5-4775-42ea-864c-0c937be90cca",
   "metadata": {},
   "outputs": [],
   "source": []
  },
  {
   "cell_type": "code",
   "execution_count": 21,
   "id": "9a463c3d-a37f-415a-bd74-af6621a16a59",
   "metadata": {},
   "outputs": [
    {
     "name": "stdout",
     "output_type": "stream",
     "text": [
      "Positive: 2323\n",
      "Negative: 584\n",
      "Neutral: 886\n"
     ]
    }
   ],
   "source": [
    "\n",
    "# for the complete document\n",
    "from textblob import TextBlob\n",
    "\n",
    "\n",
    "positive = 0\n",
    "negative = 0\n",
    "neutral = 0\n",
    "\n",
    "for text in df['status_message']:\n",
    "    if isinstance(text, str):\n",
    "        # Creating a TextBlob object\n",
    "        blob = TextBlob(text)\n",
    "        \n",
    "        # Analyze sentiment\n",
    "        sentiment = blob.sentiment.polarity\n",
    "        \n",
    "        # Determine sentiment label\n",
    "        if sentiment > 0:\n",
    "            positive += 1\n",
    "        elif sentiment < 0:\n",
    "            negative += 1\n",
    "        else:\n",
    "            neutral += 1\n",
    "    else:\n",
    "     \n",
    "        pass\n",
    "\n",
    "print(\"Positive:\", positive)\n",
    "print(\"Negative:\", negative)\n",
    "print(\"Neutral:\", neutral)\n",
    "\n"
   ]
  },
  {
   "cell_type": "code",
   "execution_count": 25,
   "id": "1bfa4342-e0e2-4b67-a039-0bba595a99ca",
   "metadata": {},
   "outputs": [
    {
     "name": "stdout",
     "output_type": "stream",
     "text": [
      "The overall sentiment of the given data is positive\n"
     ]
    }
   ],
   "source": [
    "if(positive >negative and positive>neutral):\n",
    "    print(\"The overall sentiment of the given data is positive\")\n",
    "elif( negative>positive and negative>neutral) :\n",
    "    print(\"The overall sentiment of the given data is negative\" )\n",
    "else:\n",
    "    print(\"The overall sentiment of the data is neutral\")"
   ]
  },
  {
   "cell_type": "code",
   "execution_count": null,
   "id": "534cbfbf-e3fb-44ea-94b9-976a01b3cb6e",
   "metadata": {},
   "outputs": [],
   "source": []
  }
 ],
 "metadata": {
  "kernelspec": {
   "display_name": "Python 3 (ipykernel)",
   "language": "python",
   "name": "python3"
  },
  "language_info": {
   "codemirror_mode": {
    "name": "ipython",
    "version": 3
   },
   "file_extension": ".py",
   "mimetype": "text/x-python",
   "name": "python",
   "nbconvert_exporter": "python",
   "pygments_lexer": "ipython3",
   "version": "3.11.7"
  }
 },
 "nbformat": 4,
 "nbformat_minor": 5
}
